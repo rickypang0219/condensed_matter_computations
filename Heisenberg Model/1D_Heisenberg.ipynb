{
 "cells": [
  {
   "cell_type": "code",
   "execution_count": 1,
   "metadata": {},
   "outputs": [],
   "source": [
    "# 1D Heisenberg Model with periodic Boundary condition\n",
    "%matplotlib inline \n",
    "%config InlineBackend.figure_format = 'retina'\n",
    "import matplotlib.pyplot as plt \n",
    "import numpy as np \n",
    "from scipy.sparse import csr_matrix, identity, kron \n",
    "from scipy.sparse.linalg import eigsh \n",
    "from numpy import linalg"
   ]
  },
  {
   "cell_type": "markdown",
   "metadata": {},
   "source": [
    "This program aims at calculating the energy spectrum of 1D Heisenberg Chain with periodic bondary condition.\n",
    "\n",
    "$\\begin{equation}\n",
    "H = J\\sum_{i} \\textbf{S}_{i} \\textbf{S}_{i+1} = \\frac{J}{2} \\sum_{i} ( S^{+}_{i} S^{-}_{i+1} + S^{-}_{i} S^{+}_{i+1}) + J\\sum_{i} S^{z}_{i} S^{z}_{i+1}\n",
    "\\end{equation}$\n",
    "\n",
    "$\\begin{equation}\n",
    "S^{\\pm} = S^{x} \\pm i S^{y}\n",
    "\\end{equation}$\n",
    "\n",
    "$\\begin{equation}\\\n",
    "S^{x} = \\frac{\\hbar}{2} \n",
    "\\begin{pmatrix}\n",
    "0 & 1 \\\\\n",
    "1 & 0\n",
    "\\end{pmatrix} \n",
    "~~,~~ \n",
    "S^{y} = \\frac{\\hbar}{2} \n",
    "\\begin{pmatrix}\n",
    "0 & -i \\\\\n",
    "i & 0\n",
    "\\end{pmatrix} \n",
    "~~,~~\n",
    "S^{z} = \\frac{\\hbar}{2} \n",
    "\\begin{pmatrix}\n",
    "1 & 0 \\\\\n",
    "0 & -1\n",
    "\\end{pmatrix} \n",
    "\\end{equation}$\n",
    "\n",
    "\n"
   ]
  },
  {
   "cell_type": "code",
   "execution_count": 2,
   "metadata": {},
   "outputs": [],
   "source": [
    "# Define the Operator, let hbar = 1 for simplicity\n",
    "hbar = 1  \n",
    "\n",
    "S_x = 0.5 * hbar * np.array([[0,1],[1,0]])\n",
    "S_y = 0.5 * hbar * np.array([[0,-1j],[1j,0]])\n",
    "S_z = 0.5 * hbar * np.array([[1,0],[0,-1]])"
   ]
  },
  {
   "cell_type": "code",
   "execution_count": 3,
   "metadata": {},
   "outputs": [
    {
     "data": {
      "text/plain": [
       "(array([ 0.5, -0.5]),\n",
       " array([[1., 0.],\n",
       "        [0., 1.]]))"
      ]
     },
     "execution_count": 3,
     "metadata": {},
     "output_type": "execute_result"
    }
   ],
   "source": [
    "#Check the element of S_z to ensure we define the correct stuff \n",
    "S_z\n",
    "val_z,vec_z = np.linalg.eig(S_z)\n",
    "val_z, vec_z"
   ]
  },
  {
   "cell_type": "code",
   "execution_count": 4,
   "metadata": {},
   "outputs": [],
   "source": [
    "#Similar to 1D Transverse Ising model, we need to define the operators in term of Direct Product Space: \n",
    "#Let define Sigma^{+} and Sigma^{-} first \n",
    "S_plus = S_x + 1j*S_y\n",
    "S_minus = S_x - 1j*S_y"
   ]
  },
  {
   "cell_type": "markdown",
   "metadata": {},
   "source": [
    "Impose the periodic boundary condition into the operators: \n",
    "\n",
    "Suppose I have a 1D chain and I impose the perodic boundary condition. Such periodic boundary condition map the chain into a ring, or we simply attach the start point and end point together. Consider the interaction term on the end of the chain, says $i = L$. Based on the equation above, we can express the interaction as follow: \n",
    "\\begin{equation}\n",
    "\\frac{J}{2} ( S^{+}_{L}S^{-}_{L+1} + S^{-}_{L}S^{+}_{L+1} ) + J S^{z}_{L}S^{z}_{L+1} \n",
    "\\end{equation}\n",
    "\n",
    "However, the elements $S^{+}_{L+1},S^{-}_{L+1}, S^{z}_{L+1}$ describe the $i = 1$ site in the chain since we connect the start point with the end point of the chain. Therefore, we can rewrite this as: \n",
    "\\begin{equation}\n",
    "\\frac{J}{2} ( S^{+}_{L}S^{-}_{L+1} + S^{-}_{L}S^{+}_{L+1} ) + J S^{z}_{L}S^{z}_{L+1}  = \\frac{J}{2} ( S^{+}_{L}S^{-}_{1} + S^{-}_{L}S^{+}_{1} ) + J S^{z}_{L}S^{z}_{1} \n",
    "\\end{equation}\n",
    "\n",
    "To achive the above expression in Python, we can use the modulus to compute it. Suppose the chain has $L$ sites. For $L + 1, L+2,.... ,L+n$ sites, they are just equivalent to $L = 1, 2, 3,..., n$ for $n \\leq L$. Therefore, this makes an equivalence relation on the integer space: \n",
    "\\begin{equation}\n",
    "i = i ~ \\text{mod} ~ L ~~,~~ \\text{for i} ~ \\in ~\\mathbb{N} \n",
    "\\end{equation}\n"
   ]
  },
  {
   "cell_type": "code",
   "execution_count": 98,
   "metadata": {},
   "outputs": [],
   "source": [
    "def S_Plus(index): \n",
    "    return kron(identity(2**index), kron(S_plus, identity(2**(L-index - 1))))\n",
    "\n",
    "def S_Minus(index):\n",
    "    return kron(identity(2**index), kron(S_minus, identity(2**(L-index - 1))))\n",
    "\n",
    "def S_Z(index): \n",
    "    return kron(identity(2**index), kron(S_z, identity(2**(L-index - 1))))"
   ]
  },
  {
   "cell_type": "code",
   "execution_count": 99,
   "metadata": {},
   "outputs": [],
   "source": [
    "def S_PM(index): \n",
    "    return S_Plus(index) * S_Minus((index + 1) % L ) \n",
    "\n",
    "def S_MP(index):\n",
    "    return S_Minus(index) * S_Plus((index + 1) % L ) \n",
    "\n",
    "def S_ZZ(index): \n",
    "    return S_Z(index) * S_Z((index + 1) % L)"
   ]
  },
  {
   "cell_type": "code",
   "execution_count": 52,
   "metadata": {},
   "outputs": [],
   "source": [
    "# Define the Hamiltonian of Heisenberg Model w/ Periodic B.C.\n",
    "\n",
    "\n",
    "def Hamiltonian(J): \n",
    "    H = 0 \n",
    "    #L = number of sites \n",
    "    for i in range(L):\n",
    "        H = H + 0.5 * J *  ( S_PM(i) +  S_MP(i) ) + J * S_ZZ(i)\n",
    "    return H \n",
    "\n"
   ]
  },
  {
   "cell_type": "code",
   "execution_count": 8,
   "metadata": {},
   "outputs": [],
   "source": [
    "# The number of eigenvalues that we wanna extract \n",
    "N = 40\n",
    "\n",
    "# The number of sites\n",
    "L = 10\n",
    "\n",
    "# The array of j ranging from 0 to 2 \n",
    "hj = np.arange(0, 2, 0.02)\n",
    "\n",
    "# Store the eigenvalue according to the value of hj\n",
    "res = np.zeros((N,len(hj)))\n",
    "\n",
    "for (i,j) in enumerate(hj):\n",
    "    # val,vec = np.linalg.eig(Hamiltonian(1.0,h).toarray())\n",
    "    val, vec = eigsh(Hamiltonian(j).toarray(), N , which=\"SA\" , return_eigenvectors=True)\n",
    "    res[:,i] = val "
   ]
  },
  {
   "cell_type": "code",
   "execution_count": null,
   "metadata": {},
   "outputs": [],
   "source": [
    "res_new = np.zeros(res.shape)\n",
    "for i in range(N):\n",
    "    res_new[i,:] = res[i,:] - res[0,:]\n",
    "res_new.shape"
   ]
  },
  {
   "cell_type": "code",
   "execution_count": null,
   "metadata": {},
   "outputs": [],
   "source": [
    "plt.title(\"Energy Spectrum of 1D Heisenberg Model \")\n",
    "plt.plot(hj, np.transpose(res_new), \",b\")\n",
    "plt.ylabel(r\"$E_{n} - E_{0}$\")\n",
    "plt.xlabel(r\" $J$ \")\n",
    "plt.xlim([0,2])\n",
    "plt.ylim([-0.3,7])"
   ]
  },
  {
   "cell_type": "code",
   "execution_count": null,
   "metadata": {},
   "outputs": [],
   "source": [
    "# For J < 0 case: \n",
    "L = 10\n",
    "N = 40\n",
    "\n",
    "\n",
    "hj_minus = np.arange(-2,0,0.02)\n",
    "\n",
    "# Store the eigenvalue according to the value of hj\n",
    "res_minus = np.zeros((N,len(hj_minus)))\n",
    "\n",
    "\n",
    "\n",
    "for (i,j) in enumerate(hj_minus):\n",
    "    # val,vec = np.linalg.eig(Hamiltonian(1.0,h).toarray())\n",
    "    val, vec = eigsh(Hamiltonian(j).toarray(), N , which=\"SA\" , return_eigenvectors=True)\n",
    "    res_minus[:,i] = val "
   ]
  },
  {
   "cell_type": "code",
   "execution_count": null,
   "metadata": {},
   "outputs": [],
   "source": [
    "res_new_minus = np.zeros(res_minus.shape)\n",
    "for i in range(N):\n",
    "    res_new_minus[i,:] = res_minus[i,:] - res_minus[0,:]\n",
    "res_new_minus.shape"
   ]
  },
  {
   "cell_type": "code",
   "execution_count": null,
   "metadata": {},
   "outputs": [],
   "source": [
    "plt.title(\"Energy Spectrum of 1D Heisenberg Model \")\n",
    "plt.plot(hj_minus, np.transpose(res_new_minus), \",b\")\n",
    "plt.ylabel(r\"$E_{n} - E_{0}$\")\n",
    "plt.xlabel(r\" $J$ \")\n",
    "# plt.xlim([-2,0])\n",
    "# plt.ylim([-0.3,7])"
   ]
  },
  {
   "cell_type": "code",
   "execution_count": 5,
   "metadata": {},
   "outputs": [
    {
     "data": {
      "text/plain": [
       "array([ 2,  4,  6,  8, 10, 12, 14, 16])"
      ]
     },
     "execution_count": 5,
     "metadata": {},
     "output_type": "execute_result"
    }
   ],
   "source": [
    "L_array = np.arange(2, 18, 2)\n",
    "L_array"
   ]
  },
  {
   "cell_type": "code",
   "execution_count": 6,
   "metadata": {},
   "outputs": [],
   "source": [
    "def S_Plus(index,L): \n",
    "    return kron(identity(2**index), kron(S_plus, identity(2**(L-index - 1))))\n",
    "\n",
    "def S_Minus(index,L):\n",
    "    return kron(identity(2**index), kron(S_minus, identity(2**(L-index - 1))))\n",
    "\n",
    "def S_Z(index,L): \n",
    "    return kron(identity(2**index), kron(S_z, identity(2**(L-index - 1))))\n",
    "\n",
    "def S_PM(index,L): \n",
    "    return S_Plus(index,L) * S_Minus((index + 1) % L,L ) \n",
    "\n",
    "def S_MP(index,L):\n",
    "    return S_Minus(index,L) * S_Plus((index + 1) % L ,L) \n",
    "\n",
    "def S_ZZ(index,L): \n",
    "    return S_Z(index,L) * S_Z((index + 1) % L,L)"
   ]
  },
  {
   "cell_type": "code",
   "execution_count": 7,
   "metadata": {},
   "outputs": [],
   "source": [
    "def Ham(J,L): \n",
    "    H = 0 \n",
    "    #L = number of sites \n",
    "    for i in range(L):\n",
    "        H = H + 0.5 * J *  ( S_PM(i,L) +  S_MP(i,L) ) + J * S_ZZ(i,L)\n",
    "    return H"
   ]
  },
  {
   "cell_type": "code",
   "execution_count": 67,
   "metadata": {},
   "outputs": [
    {
     "data": {
      "text/plain": [
       "<4x4 sparse matrix of type '<class 'numpy.complex128'>'\n",
       "\twith 6 stored elements in Compressed Sparse Row format>"
      ]
     },
     "execution_count": 67,
     "metadata": {},
     "output_type": "execute_result"
    }
   ],
   "source": []
  },
  {
   "cell_type": "code",
   "execution_count": 8,
   "metadata": {},
   "outputs": [],
   "source": [
    "def get_GS(L):\n",
    "    J = 1 \n",
    "    val, vec = eigsh(Ham(J,int(L)), 1 , which=\"SA\" , return_eigenvectors=True)\n",
    "    return val"
   ]
  },
  {
   "cell_type": "code",
   "execution_count": 9,
   "metadata": {},
   "outputs": [
    {
     "data": {
      "text/plain": [
       "array([-0.4473964])"
      ]
     },
     "execution_count": 9,
     "metadata": {},
     "output_type": "execute_result"
    }
   ],
   "source": [
    "get_GS(14)/14"
   ]
  },
  {
   "cell_type": "code",
   "execution_count": 10,
   "metadata": {},
   "outputs": [],
   "source": [
    "GS_array = np.zeros(len(L_array))\n",
    "\n",
    "for i in range(len(GS_array)):\n",
    "    # print(L_array[i])\n",
    "   GS_array[i] = get_GS(L_array[i]) *  float(L_array[i])**-1\n"
   ]
  },
  {
   "cell_type": "code",
   "execution_count": 11,
   "metadata": {},
   "outputs": [],
   "source": [
    "np.save(\"GS_array_BF\", GS_array)"
   ]
  },
  {
   "cell_type": "code",
   "execution_count": 12,
   "metadata": {},
   "outputs": [
    {
     "data": {
      "text/plain": [
       "<matplotlib.legend.Legend at 0x7fb7790c0e80>"
      ]
     },
     "execution_count": 12,
     "metadata": {},
     "output_type": "execute_result"
    },
    {
     "data": {
      "image/png": "[encoded data removed]",
      "text/plain": [
       "<Figure size 432x288 with 1 Axes>"
      ]
     },
     "metadata": {
      "image/png": {
       "height": 263,
       "width": 476
      },
      "needs_background": "light"
     },
     "output_type": "display_data"
    }
   ],
   "source": [
    "plt.title(\"Brute Force Method: Ground State of 1D Heisenberg Model with Periodic B.C.\")\n",
    "plt.scatter(L_array, GS_array,facecolors='none', edgecolors='b' ,label=r\"Brute Force GS\" )\n",
    "plt.axhline(y=-np.log(2) + 0.25, color='r', linestyle='-', label=r\"True GS\")\n",
    "plt.legend()"
   ]
  },
  {
   "cell_type": "code",
   "execution_count": null,
   "metadata": {},
   "outputs": [],
   "source": []
  }
 ],
 "metadata": {
  "interpreter": {
   "hash": "aee8b7b246df8f9039afb4144a1f6fd8d2ca17a180786b69acc140d282b71a49"
  },
  "kernelspec": {
   "display_name": "Python 3.9.5 64-bit",
   "name": "python3"
  },
  "language_info": {
   "name": "python",
   "version": ""
  },
  "metadata": {
   "interpreter": {
    "hash": "aee8b7b246df8f9039afb4144a1f6fd8d2ca17a180786b69acc140d282b71a49"
   }
  },
  "orig_nbformat": 2
 },
 "nbformat": 4,
 "nbformat_minor": 2
}